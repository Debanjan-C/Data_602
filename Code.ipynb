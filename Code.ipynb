{
 "cells": [
  {
   "cell_type": "markdown",
   "metadata": {},
   "source": [
    "Data is retrieved from: https://www.kaggle.com/teertha/ushealthinsurancedataset We are part of an insurance comapny and a company known as ABC inc is trying to evaluate how mucd premium each employee will be paying given age, sex, bmi, children, region and accordingly they will decide on benefits package on how much they will cover and how much is out of pocket. They are based in this DC area and only operate here."
   ]
  },
  {
   "cell_type": "markdown",
   "metadata": {},
   "source": [
    "Debanjan Chowdhury\n",
    "Data 602"
   ]
  },
  {
   "cell_type": "code",
   "execution_count": 1,
   "metadata": {},
   "outputs": [],
   "source": [
    "#potential libraries that we may need\n",
    "import pandas as pd\n",
    "import numpy as np\n",
    "import matplotlib.pyplot as plt\n",
    "%matplotlib inline\n",
    "import seaborn as sns"
   ]
  },
  {
   "cell_type": "markdown",
   "metadata": {},
   "source": [
    "## Retreiving the Data"
   ]
  },
  {
   "cell_type": "markdown",
   "metadata": {},
   "source": [
    "We are importing our csv file that contains the data set. Then we will checking the shape."
   ]
  },
  {
   "cell_type": "code",
   "execution_count": 2,
   "metadata": {},
   "outputs": [],
   "source": [
    "#Data is being retrieved using pandas and it is a csv file\n",
    "insur_prem_df = pd.read_csv(\"insurance.csv\")"
   ]
  },
  {
   "cell_type": "markdown",
   "metadata": {},
   "source": [
    "## Data Types and Info"
   ]
  },
  {
   "cell_type": "markdown",
   "metadata": {},
   "source": [
    "As we can see we have 7 columns and 1338 rows in the dataset"
   ]
  },
  {
   "cell_type": "code",
   "execution_count": 3,
   "metadata": {},
   "outputs": [
    {
     "data": {
      "text/plain": [
       "(1338, 7)"
      ]
     },
     "execution_count": 3,
     "metadata": {},
     "output_type": "execute_result"
    }
   ],
   "source": [
    "insur_prem_df.shape"
   ]
  },
  {
   "cell_type": "code",
   "execution_count": 4,
   "metadata": {},
   "outputs": [
    {
     "name": "stdout",
     "output_type": "stream",
     "text": [
      "<class 'pandas.core.frame.DataFrame'>\n",
      "RangeIndex: 1338 entries, 0 to 1337\n",
      "Data columns (total 7 columns):\n",
      " #   Column    Non-Null Count  Dtype  \n",
      "---  ------    --------------  -----  \n",
      " 0   age       1338 non-null   int64  \n",
      " 1   sex       1338 non-null   object \n",
      " 2   bmi       1338 non-null   float64\n",
      " 3   children  1338 non-null   int64  \n",
      " 4   smoker    1338 non-null   object \n",
      " 5   region    1338 non-null   object \n",
      " 6   charges   1338 non-null   float64\n",
      "dtypes: float64(2), int64(2), object(3)\n",
      "memory usage: 73.3+ KB\n"
     ]
    }
   ],
   "source": [
    "insur_prem_df.info()"
   ]
  },
  {
   "cell_type": "markdown",
   "metadata": {},
   "source": [
    "## Exploratory Data Analysis"
   ]
  },
  {
   "cell_type": "code",
   "execution_count": 5,
   "metadata": {},
   "outputs": [
    {
     "data": {
      "text/plain": [
       "age         0\n",
       "sex         0\n",
       "bmi         0\n",
       "children    0\n",
       "smoker      0\n",
       "region      0\n",
       "charges     0\n",
       "dtype: int64"
      ]
     },
     "execution_count": 5,
     "metadata": {},
     "output_type": "execute_result"
    }
   ],
   "source": [
    "#We check for missing values and see none. \n",
    "insur_prem_df.isnull().sum()"
   ]
  },
  {
   "cell_type": "markdown",
   "metadata": {},
   "source": [
    "## Data Cleaning"
   ]
  },
  {
   "cell_type": "markdown",
   "metadata": {},
   "source": [
    "Let us drop the region table as employees are located in the DC area where the office only operates so region will not make a difference. "
   ]
  },
  {
   "cell_type": "code",
   "execution_count": 6,
   "metadata": {},
   "outputs": [
    {
     "data": {
      "text/html": [
       "<div>\n",
       "<style scoped>\n",
       "    .dataframe tbody tr th:only-of-type {\n",
       "        vertical-align: middle;\n",
       "    }\n",
       "\n",
       "    .dataframe tbody tr th {\n",
       "        vertical-align: top;\n",
       "    }\n",
       "\n",
       "    .dataframe thead th {\n",
       "        text-align: right;\n",
       "    }\n",
       "</style>\n",
       "<table border=\"1\" class=\"dataframe\">\n",
       "  <thead>\n",
       "    <tr style=\"text-align: right;\">\n",
       "      <th></th>\n",
       "      <th>age</th>\n",
       "      <th>sex</th>\n",
       "      <th>bmi</th>\n",
       "      <th>children</th>\n",
       "      <th>smoker</th>\n",
       "      <th>charges</th>\n",
       "    </tr>\n",
       "  </thead>\n",
       "  <tbody>\n",
       "    <tr>\n",
       "      <th>0</th>\n",
       "      <td>19</td>\n",
       "      <td>female</td>\n",
       "      <td>27.900</td>\n",
       "      <td>0</td>\n",
       "      <td>yes</td>\n",
       "      <td>16884.92400</td>\n",
       "    </tr>\n",
       "    <tr>\n",
       "      <th>1</th>\n",
       "      <td>18</td>\n",
       "      <td>male</td>\n",
       "      <td>33.770</td>\n",
       "      <td>1</td>\n",
       "      <td>no</td>\n",
       "      <td>1725.55230</td>\n",
       "    </tr>\n",
       "    <tr>\n",
       "      <th>2</th>\n",
       "      <td>28</td>\n",
       "      <td>male</td>\n",
       "      <td>33.000</td>\n",
       "      <td>3</td>\n",
       "      <td>no</td>\n",
       "      <td>4449.46200</td>\n",
       "    </tr>\n",
       "    <tr>\n",
       "      <th>3</th>\n",
       "      <td>33</td>\n",
       "      <td>male</td>\n",
       "      <td>22.705</td>\n",
       "      <td>0</td>\n",
       "      <td>no</td>\n",
       "      <td>21984.47061</td>\n",
       "    </tr>\n",
       "    <tr>\n",
       "      <th>4</th>\n",
       "      <td>32</td>\n",
       "      <td>male</td>\n",
       "      <td>28.880</td>\n",
       "      <td>0</td>\n",
       "      <td>no</td>\n",
       "      <td>3866.85520</td>\n",
       "    </tr>\n",
       "  </tbody>\n",
       "</table>\n",
       "</div>"
      ],
      "text/plain": [
       "   age     sex     bmi  children smoker      charges\n",
       "0   19  female  27.900         0    yes  16884.92400\n",
       "1   18    male  33.770         1     no   1725.55230\n",
       "2   28    male  33.000         3     no   4449.46200\n",
       "3   33    male  22.705         0     no  21984.47061\n",
       "4   32    male  28.880         0     no   3866.85520"
      ]
     },
     "execution_count": 6,
     "metadata": {},
     "output_type": "execute_result"
    }
   ],
   "source": [
    "insur_prem_df = insur_prem_df.drop(columns={'region'})\n",
    "insur_prem_df.head()"
   ]
  },
  {
   "cell_type": "code",
   "execution_count": 7,
   "metadata": {},
   "outputs": [
    {
     "data": {
      "text/html": [
       "<div>\n",
       "<style scoped>\n",
       "    .dataframe tbody tr th:only-of-type {\n",
       "        vertical-align: middle;\n",
       "    }\n",
       "\n",
       "    .dataframe tbody tr th {\n",
       "        vertical-align: top;\n",
       "    }\n",
       "\n",
       "    .dataframe thead th {\n",
       "        text-align: right;\n",
       "    }\n",
       "</style>\n",
       "<table border=\"1\" class=\"dataframe\">\n",
       "  <thead>\n",
       "    <tr style=\"text-align: right;\">\n",
       "      <th></th>\n",
       "      <th>age</th>\n",
       "      <th>gender</th>\n",
       "      <th>bmi</th>\n",
       "      <th>children</th>\n",
       "      <th>smoker</th>\n",
       "      <th>charges</th>\n",
       "    </tr>\n",
       "  </thead>\n",
       "  <tbody>\n",
       "    <tr>\n",
       "      <th>0</th>\n",
       "      <td>19</td>\n",
       "      <td>female</td>\n",
       "      <td>27.900</td>\n",
       "      <td>0</td>\n",
       "      <td>yes</td>\n",
       "      <td>16884.92400</td>\n",
       "    </tr>\n",
       "    <tr>\n",
       "      <th>1</th>\n",
       "      <td>18</td>\n",
       "      <td>male</td>\n",
       "      <td>33.770</td>\n",
       "      <td>1</td>\n",
       "      <td>no</td>\n",
       "      <td>1725.55230</td>\n",
       "    </tr>\n",
       "    <tr>\n",
       "      <th>2</th>\n",
       "      <td>28</td>\n",
       "      <td>male</td>\n",
       "      <td>33.000</td>\n",
       "      <td>3</td>\n",
       "      <td>no</td>\n",
       "      <td>4449.46200</td>\n",
       "    </tr>\n",
       "    <tr>\n",
       "      <th>3</th>\n",
       "      <td>33</td>\n",
       "      <td>male</td>\n",
       "      <td>22.705</td>\n",
       "      <td>0</td>\n",
       "      <td>no</td>\n",
       "      <td>21984.47061</td>\n",
       "    </tr>\n",
       "    <tr>\n",
       "      <th>4</th>\n",
       "      <td>32</td>\n",
       "      <td>male</td>\n",
       "      <td>28.880</td>\n",
       "      <td>0</td>\n",
       "      <td>no</td>\n",
       "      <td>3866.85520</td>\n",
       "    </tr>\n",
       "  </tbody>\n",
       "</table>\n",
       "</div>"
      ],
      "text/plain": [
       "   age  gender     bmi  children smoker      charges\n",
       "0   19  female  27.900         0    yes  16884.92400\n",
       "1   18    male  33.770         1     no   1725.55230\n",
       "2   28    male  33.000         3     no   4449.46200\n",
       "3   33    male  22.705         0     no  21984.47061\n",
       "4   32    male  28.880         0     no   3866.85520"
      ]
     },
     "execution_count": 7,
     "metadata": {},
     "output_type": "execute_result"
    }
   ],
   "source": [
    "insur_prem_df = insur_prem_df.rename(columns=({'sex':'gender'}))\n",
    "insur_prem_df.head()"
   ]
  },
  {
   "cell_type": "code",
   "execution_count": 8,
   "metadata": {},
   "outputs": [
    {
     "data": {
      "text/html": [
       "<div>\n",
       "<style scoped>\n",
       "    .dataframe tbody tr th:only-of-type {\n",
       "        vertical-align: middle;\n",
       "    }\n",
       "\n",
       "    .dataframe tbody tr th {\n",
       "        vertical-align: top;\n",
       "    }\n",
       "\n",
       "    .dataframe thead th {\n",
       "        text-align: right;\n",
       "    }\n",
       "</style>\n",
       "<table border=\"1\" class=\"dataframe\">\n",
       "  <thead>\n",
       "    <tr style=\"text-align: right;\">\n",
       "      <th></th>\n",
       "      <th>age</th>\n",
       "      <th>gender</th>\n",
       "      <th>bmi</th>\n",
       "      <th>children</th>\n",
       "      <th>smoker</th>\n",
       "      <th>charges</th>\n",
       "    </tr>\n",
       "  </thead>\n",
       "  <tbody>\n",
       "    <tr>\n",
       "      <th>0</th>\n",
       "      <td>19</td>\n",
       "      <td>female</td>\n",
       "      <td>27.90</td>\n",
       "      <td>0</td>\n",
       "      <td>yes</td>\n",
       "      <td>16884.92</td>\n",
       "    </tr>\n",
       "    <tr>\n",
       "      <th>1</th>\n",
       "      <td>18</td>\n",
       "      <td>male</td>\n",
       "      <td>33.77</td>\n",
       "      <td>1</td>\n",
       "      <td>no</td>\n",
       "      <td>1725.55</td>\n",
       "    </tr>\n",
       "    <tr>\n",
       "      <th>2</th>\n",
       "      <td>28</td>\n",
       "      <td>male</td>\n",
       "      <td>33.00</td>\n",
       "      <td>3</td>\n",
       "      <td>no</td>\n",
       "      <td>4449.46</td>\n",
       "    </tr>\n",
       "    <tr>\n",
       "      <th>3</th>\n",
       "      <td>33</td>\n",
       "      <td>male</td>\n",
       "      <td>22.70</td>\n",
       "      <td>0</td>\n",
       "      <td>no</td>\n",
       "      <td>21984.47</td>\n",
       "    </tr>\n",
       "    <tr>\n",
       "      <th>4</th>\n",
       "      <td>32</td>\n",
       "      <td>male</td>\n",
       "      <td>28.88</td>\n",
       "      <td>0</td>\n",
       "      <td>no</td>\n",
       "      <td>3866.86</td>\n",
       "    </tr>\n",
       "  </tbody>\n",
       "</table>\n",
       "</div>"
      ],
      "text/plain": [
       "   age  gender    bmi  children smoker   charges\n",
       "0   19  female  27.90         0    yes  16884.92\n",
       "1   18    male  33.77         1     no   1725.55\n",
       "2   28    male  33.00         3     no   4449.46\n",
       "3   33    male  22.70         0     no  21984.47\n",
       "4   32    male  28.88         0     no   3866.86"
      ]
     },
     "execution_count": 8,
     "metadata": {},
     "output_type": "execute_result"
    }
   ],
   "source": [
    "insur_prem_df['bmi'] = insur_prem_df['bmi'].round(2)\n",
    "insur_prem_df['charges'] = insur_prem_df['charges'].round(2)\n",
    "insur_prem_df.head()"
   ]
  },
  {
   "cell_type": "markdown",
   "metadata": {},
   "source": [
    "We notice that the sex and smoker data is categorical data and we should convert it to numerical as we would need numerical datasets for regression."
   ]
  },
  {
   "cell_type": "markdown",
   "metadata": {},
   "source": [
    "## Visualizations"
   ]
  },
  {
   "cell_type": "markdown",
   "metadata": {},
   "source": [
    "### As we can see in the example below. Most individuals are below the age of 20 in the company."
   ]
  },
  {
   "cell_type": "markdown",
   "metadata": {},
   "source": [
    "The first one shows us the distribution of the age of individuals in the company"
   ]
  },
  {
   "cell_type": "code",
   "execution_count": 9,
   "metadata": {},
   "outputs": [
    {
     "data": {
      "image/png": "[encoded data removed]",
      "text/plain": [
       "<Figure size 432x288 with 1 Axes>"
      ]
     },
     "metadata": {
      "needs_background": "light"
     },
     "output_type": "display_data"
    }
   ],
   "source": [
    "f1 = sns.distplot(insur_prem_df['age'], kde =True, norm_hist = False)\n",
    "f1 = sns.set(rc={'figure.figsize':(10, 10), 'axes.labelsize': 10, 'xtick.labelsize': 10, 'ytick.labelsize': 10})\n",
    "plt.savefig(\"
    
    /agedist.png\")"
   ]
  },
  {
   "cell_type": "markdown",
   "metadata": {},
   "source": [
    "The second one shows us the distribution of the bmi of everyone in the company"
   ]
  },
  {
   "cell_type": "code",
   "execution_count": 10,
   "metadata": {},
   "outputs": [
    {
     "data": {
      "image/png": "[encoded data removed]",
      "text/plain": [
       "<Figure size 720x720 with 1 Axes>"
      ]
     },
     "metadata": {},
     "output_type": "display_data"
    }
   ],
   "source": [
    "f2 = sns.distplot(insur_prem_df['bmi'], kde =True, norm_hist = False)\n",
    "f2 = sns.set(rc={'figure.figsize':(10, 10), 'axes.labelsize': 20, 'xtick.labelsize': 10, 'ytick.labelsize': 10})\n",
    "plt.savefig(\"images/bmidist.png\")"
   ]
  },
  {
   "cell_type": "markdown",
   "metadata": {},
   "source": [
    "We can see the distribution or Count of all the datasets in the one below"
   ]
  },
  {
   "cell_type": "code",
   "execution_count": 11,
   "metadata": {},
   "outputs": [
    {
     "data": {
      "image/png": "[encoded data removed]",
      "text/plain": [
       "<Figure size 1152x1440 with 4 Axes>"
      ]
     },
     "metadata": {},
     "output_type": "display_data"
    }
   ],
   "source": [
    "insur_prem_df.hist(figsize=(16,20), bins=30);"
   ]
  },
  {
   "cell_type": "markdown",
   "metadata": {},
   "source": [
    "## Train and test models"
   ]
  },
  {
   "cell_type": "markdown",
   "metadata": {},
   "source": [
    "We have a few qualitative datasets and need to convert them to quantitative in order touse them in our linear gregression models. I added 1 and -1 to the columns with two rows as if I did 1 and 0 that would affect my data set. "
   ]
  },
  {
   "cell_type": "code",
   "execution_count": 12,
   "metadata": {
    "scrolled": true
   },
   "outputs": [
    {
     "data": {
      "text/html": [
       "<div>\n",
       "<style scoped>\n",
       "    .dataframe tbody tr th:only-of-type {\n",
       "        vertical-align: middle;\n",
       "    }\n",
       "\n",
       "    .dataframe tbody tr th {\n",
       "        vertical-align: top;\n",
       "    }\n",
       "\n",
       "    .dataframe thead th {\n",
       "        text-align: right;\n",
       "    }\n",
       "</style>\n",
       "<table border=\"1\" class=\"dataframe\">\n",
       "  <thead>\n",
       "    <tr style=\"text-align: right;\">\n",
       "      <th></th>\n",
       "      <th>age</th>\n",
       "      <th>gender</th>\n",
       "      <th>bmi</th>\n",
       "      <th>children</th>\n",
       "      <th>smoker</th>\n",
       "      <th>charges</th>\n",
       "    </tr>\n",
       "  </thead>\n",
       "  <tbody>\n",
       "    <tr>\n",
       "      <th>0</th>\n",
       "      <td>19</td>\n",
       "      <td>1</td>\n",
       "      <td>27.90</td>\n",
       "      <td>0</td>\n",
       "      <td>1</td>\n",
       "      <td>16884.92</td>\n",
       "    </tr>\n",
       "    <tr>\n",
       "      <th>1</th>\n",
       "      <td>18</td>\n",
       "      <td>-1</td>\n",
       "      <td>33.77</td>\n",
       "      <td>1</td>\n",
       "      <td>-1</td>\n",
       "      <td>1725.55</td>\n",
       "    </tr>\n",
       "    <tr>\n",
       "      <th>2</th>\n",
       "      <td>28</td>\n",
       "      <td>-1</td>\n",
       "      <td>33.00</td>\n",
       "      <td>3</td>\n",
       "      <td>-1</td>\n",
       "      <td>4449.46</td>\n",
       "    </tr>\n",
       "    <tr>\n",
       "      <th>3</th>\n",
       "      <td>33</td>\n",
       "      <td>-1</td>\n",
       "      <td>22.70</td>\n",
       "      <td>0</td>\n",
       "      <td>-1</td>\n",
       "      <td>21984.47</td>\n",
       "    </tr>\n",
       "    <tr>\n",
       "      <th>4</th>\n",
       "      <td>32</td>\n",
       "      <td>-1</td>\n",
       "      <td>28.88</td>\n",
       "      <td>0</td>\n",
       "      <td>-1</td>\n",
       "      <td>3866.86</td>\n",
       "    </tr>\n",
       "  </tbody>\n",
       "</table>\n",
       "</div>"
      ],
      "text/plain": [
       "   age  gender    bmi  children  smoker   charges\n",
       "0   19       1  27.90         0       1  16884.92\n",
       "1   18      -1  33.77         1      -1   1725.55\n",
       "2   28      -1  33.00         3      -1   4449.46\n",
       "3   33      -1  22.70         0      -1  21984.47\n",
       "4   32      -1  28.88         0      -1   3866.86"
      ]
     },
     "execution_count": 12,
     "metadata": {},
     "output_type": "execute_result"
    }
   ],
   "source": [
    "insur_prem_df_upd = insur_prem_df\n",
    "\n",
    "updates = {\"gender\":{\"female\": 1, \"male\": -1},\n",
    "                \"smoker\": {\"yes\": 1, \"no\": -1 }}\n",
    "insur_prem_df_upd.replace(updates, inplace=True)\n",
    "insur_prem_df_upd.head()"
   ]
  },
  {
   "cell_type": "markdown",
   "metadata": {},
   "source": [
    "I have more than 10k datas in the dataset and therefore I divided tha data into training and test sets where I will use 20% of the data or the test size will be 20% of the total data and the training size will be the rest 80% of the total datasets. I will be using skikitlearn model for this and importing train_test_split function to split training and testing model."
   ]
  },
  {
   "cell_type": "code",
   "execution_count": 13,
   "metadata": {},
   "outputs": [
    {
     "data": {
      "text/html": [
       "<div>\n",
       "<style scoped>\n",
       "    .dataframe tbody tr th:only-of-type {\n",
       "        vertical-align: middle;\n",
       "    }\n",
       "\n",
       "    .dataframe tbody tr th {\n",
       "        vertical-align: top;\n",
       "    }\n",
       "\n",
       "    .dataframe thead th {\n",
       "        text-align: right;\n",
       "    }\n",
       "</style>\n",
       "<table border=\"1\" class=\"dataframe\">\n",
       "  <thead>\n",
       "    <tr style=\"text-align: right;\">\n",
       "      <th></th>\n",
       "      <th>age</th>\n",
       "      <th>gender</th>\n",
       "      <th>bmi</th>\n",
       "      <th>children</th>\n",
       "      <th>smoker</th>\n",
       "      <th>charges</th>\n",
       "    </tr>\n",
       "  </thead>\n",
       "  <tbody>\n",
       "    <tr>\n",
       "      <th>0</th>\n",
       "      <td>19</td>\n",
       "      <td>1</td>\n",
       "      <td>27.90</td>\n",
       "      <td>0</td>\n",
       "      <td>1</td>\n",
       "      <td>16884.92</td>\n",
       "    </tr>\n",
       "    <tr>\n",
       "      <th>1</th>\n",
       "      <td>18</td>\n",
       "      <td>-1</td>\n",
       "      <td>33.77</td>\n",
       "      <td>1</td>\n",
       "      <td>-1</td>\n",
       "      <td>1725.55</td>\n",
       "    </tr>\n",
       "    <tr>\n",
       "      <th>2</th>\n",
       "      <td>28</td>\n",
       "      <td>-1</td>\n",
       "      <td>33.00</td>\n",
       "      <td>3</td>\n",
       "      <td>-1</td>\n",
       "      <td>4449.46</td>\n",
       "    </tr>\n",
       "    <tr>\n",
       "      <th>3</th>\n",
       "      <td>33</td>\n",
       "      <td>-1</td>\n",
       "      <td>22.70</td>\n",
       "      <td>0</td>\n",
       "      <td>-1</td>\n",
       "      <td>21984.47</td>\n",
       "    </tr>\n",
       "    <tr>\n",
       "      <th>4</th>\n",
       "      <td>32</td>\n",
       "      <td>-1</td>\n",
       "      <td>28.88</td>\n",
       "      <td>0</td>\n",
       "      <td>-1</td>\n",
       "      <td>3866.86</td>\n",
       "    </tr>\n",
       "  </tbody>\n",
       "</table>\n",
       "</div>"
      ],
      "text/plain": [
       "   age  gender    bmi  children  smoker   charges\n",
       "0   19       1  27.90         0       1  16884.92\n",
       "1   18      -1  33.77         1      -1   1725.55\n",
       "2   28      -1  33.00         3      -1   4449.46\n",
       "3   33      -1  22.70         0      -1  21984.47\n",
       "4   32      -1  28.88         0      -1   3866.86"
      ]
     },
     "execution_count": 13,
     "metadata": {},
     "output_type": "execute_result"
    }
   ],
   "source": [
    "from sklearn.model_selection import train_test_split\n",
    "\n",
    "X_train, X_test = train_test_split(insur_prem_df_upd, shuffle = True, test_size = 0.2) # splits the data into two parts with 1:4 ratio\n",
    "\n",
    "insur_prem_df_upd.head()"
   ]
  },
  {
   "cell_type": "markdown",
   "metadata": {},
   "source": [
    "As we can see below, 1070 rows were taken in the training set which is about 80% of the total 1338 rows and 268"
   ]
  },
  {
   "cell_type": "code",
   "execution_count": 14,
   "metadata": {},
   "outputs": [
    {
     "name": "stdout",
     "output_type": "stream",
     "text": [
      "(1070, 6)\n",
      "(268, 6)\n",
      "(1338, 6)\n"
     ]
    },
    {
     "data": {
      "text/html": [
       "<div>\n",
       "<style scoped>\n",
       "    .dataframe tbody tr th:only-of-type {\n",
       "        vertical-align: middle;\n",
       "    }\n",
       "\n",
       "    .dataframe tbody tr th {\n",
       "        vertical-align: top;\n",
       "    }\n",
       "\n",
       "    .dataframe thead th {\n",
       "        text-align: right;\n",
       "    }\n",
       "</style>\n",
       "<table border=\"1\" class=\"dataframe\">\n",
       "  <thead>\n",
       "    <tr style=\"text-align: right;\">\n",
       "      <th></th>\n",
       "      <th>age</th>\n",
       "      <th>gender</th>\n",
       "      <th>bmi</th>\n",
       "      <th>children</th>\n",
       "      <th>smoker</th>\n",
       "      <th>charges</th>\n",
       "    </tr>\n",
       "  </thead>\n",
       "  <tbody>\n",
       "    <tr>\n",
       "      <th>195</th>\n",
       "      <td>19</td>\n",
       "      <td>-1</td>\n",
       "      <td>30.59</td>\n",
       "      <td>0</td>\n",
       "      <td>-1</td>\n",
       "      <td>1639.56</td>\n",
       "    </tr>\n",
       "    <tr>\n",
       "      <th>747</th>\n",
       "      <td>19</td>\n",
       "      <td>-1</td>\n",
       "      <td>21.76</td>\n",
       "      <td>0</td>\n",
       "      <td>-1</td>\n",
       "      <td>1627.28</td>\n",
       "    </tr>\n",
       "    <tr>\n",
       "      <th>1116</th>\n",
       "      <td>41</td>\n",
       "      <td>-1</td>\n",
       "      <td>29.64</td>\n",
       "      <td>5</td>\n",
       "      <td>-1</td>\n",
       "      <td>9222.40</td>\n",
       "    </tr>\n",
       "    <tr>\n",
       "      <th>541</th>\n",
       "      <td>20</td>\n",
       "      <td>1</td>\n",
       "      <td>31.79</td>\n",
       "      <td>2</td>\n",
       "      <td>-1</td>\n",
       "      <td>3056.39</td>\n",
       "    </tr>\n",
       "    <tr>\n",
       "      <th>823</th>\n",
       "      <td>44</td>\n",
       "      <td>1</td>\n",
       "      <td>29.81</td>\n",
       "      <td>2</td>\n",
       "      <td>-1</td>\n",
       "      <td>8219.20</td>\n",
       "    </tr>\n",
       "  </tbody>\n",
       "</table>\n",
       "</div>"
      ],
      "text/plain": [
       "      age  gender    bmi  children  smoker  charges\n",
       "195    19      -1  30.59         0      -1  1639.56\n",
       "747    19      -1  21.76         0      -1  1627.28\n",
       "1116   41      -1  29.64         5      -1  9222.40\n",
       "541    20       1  31.79         2      -1  3056.39\n",
       "823    44       1  29.81         2      -1  8219.20"
      ]
     },
     "execution_count": 14,
     "metadata": {},
     "output_type": "execute_result"
    }
   ],
   "source": [
    "print(X_train.shape)\n",
    "print(X_test.shape)\n",
    "print(insur_prem_df_upd.shape)\n",
    "\n",
    "X_test[[\"age\", \"gender\", \"bmi\", \"children\", \"smoker\", \"charges\"]].head()\n",
    "\n"
   ]
  },
  {
   "cell_type": "code",
   "execution_count": 15,
   "metadata": {},
   "outputs": [
    {
     "name": "stdout",
     "output_type": "stream",
     "text": [
      "Training Size\n",
      "(1070, 6)\n",
      "Testing Size: \n",
      "(268, 6)\n"
     ]
    },
    {
     "data": {
      "text/html": [
       "<div>\n",
       "<style scoped>\n",
       "    .dataframe tbody tr th:only-of-type {\n",
       "        vertical-align: middle;\n",
       "    }\n",
       "\n",
       "    .dataframe tbody tr th {\n",
       "        vertical-align: top;\n",
       "    }\n",
       "\n",
       "    .dataframe thead th {\n",
       "        text-align: right;\n",
       "    }\n",
       "</style>\n",
       "<table border=\"1\" class=\"dataframe\">\n",
       "  <thead>\n",
       "    <tr style=\"text-align: right;\">\n",
       "      <th></th>\n",
       "      <th>age</th>\n",
       "      <th>gender</th>\n",
       "      <th>bmi</th>\n",
       "      <th>children</th>\n",
       "      <th>smoker</th>\n",
       "      <th>charges</th>\n",
       "    </tr>\n",
       "  </thead>\n",
       "  <tbody>\n",
       "    <tr>\n",
       "      <th>196</th>\n",
       "      <td>39</td>\n",
       "      <td>1</td>\n",
       "      <td>32.80</td>\n",
       "      <td>0</td>\n",
       "      <td>-1</td>\n",
       "      <td>5649.72</td>\n",
       "    </tr>\n",
       "    <tr>\n",
       "      <th>115</th>\n",
       "      <td>60</td>\n",
       "      <td>-1</td>\n",
       "      <td>28.60</td>\n",
       "      <td>0</td>\n",
       "      <td>-1</td>\n",
       "      <td>30260.00</td>\n",
       "    </tr>\n",
       "    <tr>\n",
       "      <th>1155</th>\n",
       "      <td>36</td>\n",
       "      <td>1</td>\n",
       "      <td>22.14</td>\n",
       "      <td>3</td>\n",
       "      <td>-1</td>\n",
       "      <td>7228.22</td>\n",
       "    </tr>\n",
       "    <tr>\n",
       "      <th>506</th>\n",
       "      <td>22</td>\n",
       "      <td>-1</td>\n",
       "      <td>31.35</td>\n",
       "      <td>1</td>\n",
       "      <td>-1</td>\n",
       "      <td>2643.27</td>\n",
       "    </tr>\n",
       "    <tr>\n",
       "      <th>22</th>\n",
       "      <td>18</td>\n",
       "      <td>-1</td>\n",
       "      <td>34.10</td>\n",
       "      <td>0</td>\n",
       "      <td>-1</td>\n",
       "      <td>1137.01</td>\n",
       "    </tr>\n",
       "  </tbody>\n",
       "</table>\n",
       "</div>"
      ],
      "text/plain": [
       "      age  gender    bmi  children  smoker   charges\n",
       "196    39       1  32.80         0      -1   5649.72\n",
       "115    60      -1  28.60         0      -1  30260.00\n",
       "1155   36       1  22.14         3      -1   7228.22\n",
       "506    22      -1  31.35         1      -1   2643.27\n",
       "22     18      -1  34.10         0      -1   1137.01"
      ]
     },
     "execution_count": 15,
     "metadata": {},
     "output_type": "execute_result"
    }
   ],
   "source": [
    "print(\"Training Size\", X_train.shape, \"Testing Size: \", X_test.shape, sep = \"\\n\")\n",
    "\n",
    "X_train[[\"age\", \"gender\", \"bmi\", \"children\", \"smoker\", \"charges\"]].head()\n"
   ]
  },
  {
   "cell_type": "markdown",
   "metadata": {},
   "source": [
    "## Regression Plots below\n",
    "\n",
    "We plot regression lines using the visualization library - seaborn. We see the relationship between the bmi and the charges. We can see that it is a positive relationship however the values are messy where many values are much higher than the line and they are much farther apart when we evaluate the relationship between the age and charges of the premiums people have to pay."
   ]
  },
  {
   "cell_type": "code",
   "execution_count": 16,
   "metadata": {},
   "outputs": [
    {
     "data": {
      "image/png": "[encoded data removed]",
      "text/plain": [
       "<Figure size 360x360 with 1 Axes>"
      ]
     },
     "metadata": {},
     "output_type": "display_data"
    }
   ],
   "source": [
    "sns.lmplot(x = 'bmi', y = 'charges', data = insur_prem_df_upd, ci = 0)\n",
    "plt.draw()"
   ]
  },
  {
   "cell_type": "code",
   "execution_count": 17,
   "metadata": {},
   "outputs": [
    {
     "data": {
      "image/png": "[encoded data removed]",
      "text/plain": [
       "<Figure size 360x360 with 1 Axes>"
      ]
     },
     "metadata": {},
     "output_type": "display_data"
    }
   ],
   "source": [
    "sns.lmplot(x = 'age', y = 'charges', data = insur_prem_df_upd, ci = 0)\n",
    "plt.draw()"
   ]
  },
  {
   "cell_type": "markdown",
   "metadata": {},
   "source": [
    "R-squared - Variance explained in the model with the data from 0 to 1 and an R-squared is better the closer it reaches one. Ours is ok as it is on the 0.7 range, but has not reached one. \n",
    "P>[t] checks if our t values are 0.000 and in our case: bmi, age and smoker are significant to the model as those values are 0.000 the index have are statistically significant for the model"
   ]
  },
  {
   "cell_type": "code",
   "execution_count": 18,
   "metadata": {},
   "outputs": [
    {
     "data": {
      "text/plain": [
       "(1282.0928642312774, 393.6986806846966, 140441308.8240443)"
      ]
     },
     "execution_count": 18,
     "metadata": {},
     "output_type": "execute_result"
    }
   ],
   "source": [
    "def least_squares(X,y):\n",
    "    x_bar = X.mean()\n",
    "    y_bar = y.mean()\n",
    "    b1_num = (X - x_bar).dot(y - y_bar)\n",
    "    b1_denom = ((X - x_bar)**2).sum()\n",
    "    b1 = b1_num /b1_denom\n",
    "    b0 = y_bar - b1*x_bar\n",
    "    MSE = ((y - (b0 + b1*X))**2).mean()\n",
    "    return  b0,b1, MSE\n",
    "\n",
    "least_squares(X_train.bmi, X_train.charges)"
   ]
  },
  {
   "cell_type": "code",
   "execution_count": 19,
   "metadata": {},
   "outputs": [],
   "source": [
    "#WE find the average error or mean root squared error instead of mse\n",
    "##AVerage error is not the epselon\n",
    "def least_squares(X,y):\n",
    "    x_bar = X.mean()\n",
    "    y_bar = y.mean()\n",
    "    b1_num = (X - x_bar).dot(y - y_bar)\n",
    "    b1_denom = ((X - x_bar)**2).sum()\n",
    "    b1 = b1_num /b1_denom\n",
    "    b0 = y_bar - b1*x_bar\n",
    "    MSE = ((y - (b0 + b1*X))**2).sum()\n",
    "    return  b0,b1, (MSE**0.5)*1/200\n"
   ]
  },
  {
   "cell_type": "code",
   "execution_count": 20,
   "metadata": {},
   "outputs": [
    {
     "name": "stdout",
     "output_type": "stream",
     "text": [
      "(3146.0495901359664, 259.8538103909929, 1885.1248092370777)\n",
      "(13398.070789538086, -569.9502361029555, 1975.6552123548768)\n",
      "(12580.205835488054, 753.5266604650253, 1972.350211799957)\n",
      "(20314.01756627688, 11652.246286934143, 1247.016898946731)\n"
     ]
    }
   ],
   "source": [
    "print(least_squares(X_train.age, X_train.charges))\n",
    "print(least_squares(X_train.gender, X_train.charges))\n",
    "print(least_squares(X_train.children, X_train.charges))\n",
    "print(least_squares(X_train.smoker, X_train.charges))"
   ]
  },
  {
   "cell_type": "markdown",
   "metadata": {},
   "source": [
    "## Training the Models\n",
    "Below, we are training the model where we are using LinearRegression from Scikit Learn. After that step, we are fitting all of our x values in the dataset and the y value. Accordingly, it provides us with the coefficiant and the intercept which are the core parts of the linear regression. In the results below, we seem to have a negative intercept, but a postive or upward moving slope for each of the x values present."
   ]
  },
  {
   "cell_type": "code",
   "execution_count": 21,
   "metadata": {},
   "outputs": [
    {
     "name": "stdout",
     "output_type": "stream",
     "text": [
      "-728.011525541855 [  264.59156239   148.87061483   333.24586625   380.97733341\n",
      " 11805.30395916]\n"
     ]
    }
   ],
   "source": [
    "## Four Step workflow with sklearn\n",
    "## 1. import the tool\n",
    "from sklearn.linear_model import LinearRegression\n",
    "\n",
    "## 2. instantiate the tool you would like to use.\n",
    "lr = LinearRegression()\n",
    "\n",
    "## 3. fit the model\n",
    "lr.fit(X_train[[\"age\", \"gender\", \"bmi\", \"children\", \"smoker\"]], X_train[\"charges\"])\n",
    "\n",
    "## 4. check-out the results or make predictions\n",
    "print(lr.intercept_, lr.coef_)"
   ]
  },
  {
   "cell_type": "markdown",
   "metadata": {},
   "source": [
    "We also use the statsmodel api to compare the values and it will also help us get a more detailed summary of other values from the regression model(Oridnary Least Square Method) from OLS model. Similar to the previous one, we store our X values in the X dataset and the y values int he y dataset and we must add a constant in here unlike skikit learn. WE store that entire set int he OLS model and develop it. Below is a sumamry of our datasets and the entire model results"
   ]
  },
  {
   "cell_type": "code",
   "execution_count": 22,
   "metadata": {},
   "outputs": [
    {
     "name": "stdout",
     "output_type": "stream",
     "text": [
      "                            OLS Regression Results                            \n",
      "==============================================================================\n",
      "Dep. Variable:                charges   R-squared:                       0.739\n",
      "Model:                            OLS   Adj. R-squared:                  0.738\n",
      "Method:                 Least Squares   F-statistic:                     603.8\n",
      "Date:                Tue, 22 Sep 2020   Prob (F-statistic):          1.12e-307\n",
      "Time:                        15:28:32   Log-Likelihood:                -10857.\n",
      "No. Observations:                1070   AIC:                         2.173e+04\n",
      "Df Residuals:                    1064   BIC:                         2.176e+04\n",
      "Df Model:                           5                                         \n",
      "Covariance Type:            nonrobust                                         \n",
      "==============================================================================\n",
      "                 coef    std err          t      P>|t|      [0.025      0.975]\n",
      "------------------------------------------------------------------------------\n",
      "const       -728.0115   1082.288     -0.673      0.501   -2851.672    1395.649\n",
      "age          264.5916     13.551     19.526      0.000     238.003     291.180\n",
      "gender       148.8706    190.396      0.782      0.434    -224.723     522.464\n",
      "bmi          333.2459     31.131     10.705      0.000     272.162     394.330\n",
      "children     380.9773    158.512      2.403      0.016      69.946     692.009\n",
      "smoker      1.181e+04    236.000     50.022      0.000    1.13e+04    1.23e+04\n",
      "==============================================================================\n",
      "Omnibus:                      244.811   Durbin-Watson:                   1.931\n",
      "Prob(Omnibus):                  0.000   Jarque-Bera (JB):              557.050\n",
      "Skew:                           1.246   Prob(JB):                    1.09e-121\n",
      "Kurtosis:                       5.506   Cond. No.                         295.\n",
      "==============================================================================\n",
      "\n",
      "Warnings:\n",
      "[1] Standard Errors assume that the covariance matrix of the errors is correctly specified.\n"
     ]
    }
   ],
   "source": [
    "## This time we will use statsmodels api\n",
    "\n",
    "import statsmodels.api as sm\n",
    "\n",
    "X = X_train[[\"age\", \"gender\", \"bmi\", \"children\", \"smoker\"]]\n",
    "y = X_train.charges\n",
    "X = sm.add_constant(X)\n",
    "#OLS- Oridnary Least Square Method\n",
    "mod = sm.OLS(y, X, hasconst= True)\n",
    "## lr.fit(x, y)\n",
    "res = mod.fit()\n",
    "print(res.summary())\n",
    "\n",
    "## R-squared - In one variable square of Pearson R -- not always correct\n",
    "## R-squared - Variance explained in the model with the data: [0, 1]\n",
    "## P>[t] checks if our t values are 0.000 and then bmi and age\n",
    "## the index have are statistically significant for the model"
   ]
  },
  {
   "cell_type": "code",
   "execution_count": 23,
   "metadata": {},
   "outputs": [],
   "source": [
    "Xtest = X_test[[\"age\", \"gender\", \"bmi\", \"children\", \"smoker\"]]\n",
    "ytest = X_test.charges\n",
    "Xtest = sm.add_constant(Xtest)\n",
    "\n",
    "res.predict(Xtest);"
   ]
  },
  {
   "cell_type": "markdown",
   "metadata": {},
   "source": [
    "## Plotting\n",
    "Plotting our results for the residual plots to diagnose our linear model"
   ]
  },
  {
   "cell_type": "code",
   "execution_count": 24,
   "metadata": {},
   "outputs": [
    {
     "data": {
      "image/png": "[encoded data removed]",
      "text/plain": [
       "<Figure size 720x720 with 1 Axes>"
      ]
     },
     "metadata": {},
     "output_type": "display_data"
    }
   ],
   "source": [
    "## To diagnose a linear model \n",
    "## it's always a good idea to check residual plots\n",
    "\n",
    "residuals = res.resid\n",
    "\n",
    "y_pred = res.predict(X)\n",
    "plt.scatter(y_pred, residuals)\n",
    "plt.axhline(y=0, color = 'red', label = '0')\n",
    "\n",
    "plt.xlabel('predicted values')\n",
    "\n",
    "plt.ylabel('residuals')\n",
    "\n",
    "plt.tight_layout()"
   ]
  }
 ],
 "metadata": {
  "kernelspec": {
   "display_name": "Python 3",
   "language": "python",
   "name": "python3"
  },
  "language_info": {
   "codemirror_mode": {
    "name": "ipython",
    "version": 3
   },
   "file_extension": ".py",
   "mimetype": "text/x-python",
   "name": "python",
   "nbconvert_exporter": "python",
   "pygments_lexer": "ipython3",
   "version": "3.8.3"
  }
 },
 "nbformat": 4,
 "nbformat_minor": 4
}
